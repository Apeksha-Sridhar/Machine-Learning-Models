{
 "cells": [
  {
   "cell_type": "code",
   "execution_count": 1,
   "id": "bfc86da3",
   "metadata": {},
   "outputs": [],
   "source": [
    "## import librraies\n",
    "\n",
    "from sklearn.linear_model import LinearRegression, Lasso, SGDClassifier\n",
    "from sklearn.preprocessing import StandardScaler, PolynomialFeatures\n",
    "from sklearn.pipeline import Pipeline\n",
    "from sklearn.feature_selection import SequentialFeatureSelector, SelectFromModel\n",
    "from sklearn.metrics import mean_squared_error, log_loss\n",
    "from sklearn.model_selection import train_test_split, GridSearchCV\n",
    "from sklearn import set_config\n",
    "set_config(display=\"diagram\")\n",
    "import sklearn.cluster as cluster\n",
    "import warnings \n",
    "warnings.filterwarnings('ignore')\n",
    "\n",
    "\n",
    "import pandas as pd\n",
    "import numpy as np\n",
    "import seaborn as sns\n",
    "import plotly.express as px"
   ]
  },
  {
   "cell_type": "code",
   "execution_count": 2,
   "id": "54182a07",
   "metadata": {},
   "outputs": [
    {
     "data": {
      "text/plain": [
       "(945, 1149)"
      ]
     },
     "execution_count": 2,
     "metadata": {},
     "output_type": "execute_result"
    }
   ],
   "source": [
    "# Getting data\n",
    "\n",
    "df = pd.read_csv('/Users/apekshasridhar/Downloads/EEG.machinelearing_data_BRMH.csv')\n",
    "df.head()\n",
    "df.shape"
   ]
  },
  {
   "cell_type": "code",
   "execution_count": 3,
   "id": "8b645b2f",
   "metadata": {},
   "outputs": [
    {
     "data": {
      "text/plain": [
       "['education', 'IQ', 'Unnamed: 122']"
      ]
     },
     "execution_count": 3,
     "metadata": {},
     "output_type": "execute_result"
    }
   ],
   "source": [
    "# Cleaning data\n",
    "\n",
    "df.columns[df.isna().any()].tolist()"
   ]
  },
  {
   "cell_type": "code",
   "execution_count": 4,
   "id": "e7b02868",
   "metadata": {},
   "outputs": [
    {
     "data": {
      "text/html": [
       "<div>\n",
       "<style scoped>\n",
       "    .dataframe tbody tr th:only-of-type {\n",
       "        vertical-align: middle;\n",
       "    }\n",
       "\n",
       "    .dataframe tbody tr th {\n",
       "        vertical-align: top;\n",
       "    }\n",
       "\n",
       "    .dataframe thead th {\n",
       "        text-align: right;\n",
       "    }\n",
       "</style>\n",
       "<table border=\"1\" class=\"dataframe\">\n",
       "  <thead>\n",
       "    <tr style=\"text-align: right;\">\n",
       "      <th></th>\n",
       "      <th>no.</th>\n",
       "      <th>sex</th>\n",
       "      <th>age</th>\n",
       "      <th>eeg.date</th>\n",
       "      <th>education</th>\n",
       "      <th>IQ</th>\n",
       "      <th>main.disorder</th>\n",
       "      <th>specific.disorder</th>\n",
       "      <th>AB.A.delta.a.FP1</th>\n",
       "      <th>AB.A.delta.b.FP2</th>\n",
       "      <th>...</th>\n",
       "      <th>COH.F.gamma.o.Pz.p.P4</th>\n",
       "      <th>COH.F.gamma.o.Pz.q.T6</th>\n",
       "      <th>COH.F.gamma.o.Pz.r.O1</th>\n",
       "      <th>COH.F.gamma.o.Pz.s.O2</th>\n",
       "      <th>COH.F.gamma.p.P4.q.T6</th>\n",
       "      <th>COH.F.gamma.p.P4.r.O1</th>\n",
       "      <th>COH.F.gamma.p.P4.s.O2</th>\n",
       "      <th>COH.F.gamma.q.T6.r.O1</th>\n",
       "      <th>COH.F.gamma.q.T6.s.O2</th>\n",
       "      <th>COH.F.gamma.r.O1.s.O2</th>\n",
       "    </tr>\n",
       "  </thead>\n",
       "  <tbody>\n",
       "    <tr>\n",
       "      <th>1</th>\n",
       "      <td>2</td>\n",
       "      <td>M</td>\n",
       "      <td>37.0</td>\n",
       "      <td>2012.9.6</td>\n",
       "      <td>6.0</td>\n",
       "      <td>120.0</td>\n",
       "      <td>Addictive disorder</td>\n",
       "      <td>Alcohol use disorder</td>\n",
       "      <td>13.425118</td>\n",
       "      <td>11.002916</td>\n",
       "      <td>...</td>\n",
       "      <td>45.595619</td>\n",
       "      <td>17.510824</td>\n",
       "      <td>26.777368</td>\n",
       "      <td>28.201062</td>\n",
       "      <td>57.108861</td>\n",
       "      <td>32.375401</td>\n",
       "      <td>60.351749</td>\n",
       "      <td>13.900981</td>\n",
       "      <td>57.831848</td>\n",
       "      <td>43.463261</td>\n",
       "    </tr>\n",
       "    <tr>\n",
       "      <th>2</th>\n",
       "      <td>3</td>\n",
       "      <td>M</td>\n",
       "      <td>32.0</td>\n",
       "      <td>2012.9.10</td>\n",
       "      <td>16.0</td>\n",
       "      <td>113.0</td>\n",
       "      <td>Addictive disorder</td>\n",
       "      <td>Alcohol use disorder</td>\n",
       "      <td>29.941780</td>\n",
       "      <td>27.544684</td>\n",
       "      <td>...</td>\n",
       "      <td>99.475453</td>\n",
       "      <td>70.654171</td>\n",
       "      <td>39.131547</td>\n",
       "      <td>69.920996</td>\n",
       "      <td>71.063644</td>\n",
       "      <td>38.534505</td>\n",
       "      <td>69.908764</td>\n",
       "      <td>27.180532</td>\n",
       "      <td>64.803155</td>\n",
       "      <td>31.485799</td>\n",
       "    </tr>\n",
       "    <tr>\n",
       "      <th>3</th>\n",
       "      <td>4</td>\n",
       "      <td>M</td>\n",
       "      <td>35.0</td>\n",
       "      <td>2012.10.8</td>\n",
       "      <td>18.0</td>\n",
       "      <td>126.0</td>\n",
       "      <td>Addictive disorder</td>\n",
       "      <td>Alcohol use disorder</td>\n",
       "      <td>21.496226</td>\n",
       "      <td>21.846832</td>\n",
       "      <td>...</td>\n",
       "      <td>59.986561</td>\n",
       "      <td>63.822201</td>\n",
       "      <td>36.478254</td>\n",
       "      <td>47.117006</td>\n",
       "      <td>84.658376</td>\n",
       "      <td>24.724096</td>\n",
       "      <td>50.299349</td>\n",
       "      <td>35.319695</td>\n",
       "      <td>79.822944</td>\n",
       "      <td>41.141873</td>\n",
       "    </tr>\n",
       "    <tr>\n",
       "      <th>4</th>\n",
       "      <td>5</td>\n",
       "      <td>M</td>\n",
       "      <td>36.0</td>\n",
       "      <td>2012.10.18</td>\n",
       "      <td>16.0</td>\n",
       "      <td>112.0</td>\n",
       "      <td>Addictive disorder</td>\n",
       "      <td>Alcohol use disorder</td>\n",
       "      <td>37.775667</td>\n",
       "      <td>33.607679</td>\n",
       "      <td>...</td>\n",
       "      <td>61.462720</td>\n",
       "      <td>59.166097</td>\n",
       "      <td>51.465531</td>\n",
       "      <td>58.635415</td>\n",
       "      <td>80.685608</td>\n",
       "      <td>62.138436</td>\n",
       "      <td>75.888749</td>\n",
       "      <td>61.003944</td>\n",
       "      <td>87.455509</td>\n",
       "      <td>70.531662</td>\n",
       "    </tr>\n",
       "    <tr>\n",
       "      <th>5</th>\n",
       "      <td>6</td>\n",
       "      <td>F</td>\n",
       "      <td>24.0</td>\n",
       "      <td>2012.11.21</td>\n",
       "      <td>14.0</td>\n",
       "      <td>105.0</td>\n",
       "      <td>Addictive disorder</td>\n",
       "      <td>Alcohol use disorder</td>\n",
       "      <td>13.482096</td>\n",
       "      <td>14.095855</td>\n",
       "      <td>...</td>\n",
       "      <td>92.841723</td>\n",
       "      <td>82.302355</td>\n",
       "      <td>83.938567</td>\n",
       "      <td>88.213886</td>\n",
       "      <td>90.972026</td>\n",
       "      <td>77.443894</td>\n",
       "      <td>89.545596</td>\n",
       "      <td>72.579530</td>\n",
       "      <td>89.462863</td>\n",
       "      <td>86.127823</td>\n",
       "    </tr>\n",
       "  </tbody>\n",
       "</table>\n",
       "<p>5 rows × 1148 columns</p>\n",
       "</div>"
      ],
      "text/plain": [
       "   no. sex   age    eeg.date  education     IQ       main.disorder  \\\n",
       "1    2   M  37.0    2012.9.6        6.0  120.0  Addictive disorder   \n",
       "2    3   M  32.0   2012.9.10       16.0  113.0  Addictive disorder   \n",
       "3    4   M  35.0   2012.10.8       18.0  126.0  Addictive disorder   \n",
       "4    5   M  36.0  2012.10.18       16.0  112.0  Addictive disorder   \n",
       "5    6   F  24.0  2012.11.21       14.0  105.0  Addictive disorder   \n",
       "\n",
       "      specific.disorder  AB.A.delta.a.FP1  AB.A.delta.b.FP2  ...  \\\n",
       "1  Alcohol use disorder         13.425118         11.002916  ...   \n",
       "2  Alcohol use disorder         29.941780         27.544684  ...   \n",
       "3  Alcohol use disorder         21.496226         21.846832  ...   \n",
       "4  Alcohol use disorder         37.775667         33.607679  ...   \n",
       "5  Alcohol use disorder         13.482096         14.095855  ...   \n",
       "\n",
       "   COH.F.gamma.o.Pz.p.P4  COH.F.gamma.o.Pz.q.T6  COH.F.gamma.o.Pz.r.O1  \\\n",
       "1              45.595619              17.510824              26.777368   \n",
       "2              99.475453              70.654171              39.131547   \n",
       "3              59.986561              63.822201              36.478254   \n",
       "4              61.462720              59.166097              51.465531   \n",
       "5              92.841723              82.302355              83.938567   \n",
       "\n",
       "   COH.F.gamma.o.Pz.s.O2  COH.F.gamma.p.P4.q.T6  COH.F.gamma.p.P4.r.O1  \\\n",
       "1              28.201062              57.108861              32.375401   \n",
       "2              69.920996              71.063644              38.534505   \n",
       "3              47.117006              84.658376              24.724096   \n",
       "4              58.635415              80.685608              62.138436   \n",
       "5              88.213886              90.972026              77.443894   \n",
       "\n",
       "   COH.F.gamma.p.P4.s.O2  COH.F.gamma.q.T6.r.O1  COH.F.gamma.q.T6.s.O2  \\\n",
       "1              60.351749              13.900981              57.831848   \n",
       "2              69.908764              27.180532              64.803155   \n",
       "3              50.299349              35.319695              79.822944   \n",
       "4              75.888749              61.003944              87.455509   \n",
       "5              89.545596              72.579530              89.462863   \n",
       "\n",
       "   COH.F.gamma.r.O1.s.O2  \n",
       "1              43.463261  \n",
       "2              31.485799  \n",
       "3              41.141873  \n",
       "4              70.531662  \n",
       "5              86.127823  \n",
       "\n",
       "[5 rows x 1148 columns]"
      ]
     },
     "execution_count": 4,
     "metadata": {},
     "output_type": "execute_result"
    }
   ],
   "source": [
    "# dropping rows with NaNs\n",
    "df.shape\n",
    "df.drop('Unnamed: 122', axis = 1, inplace = True)\n",
    "df.dropna(inplace = True)\n",
    "df.head()"
   ]
  },
  {
   "cell_type": "code",
   "execution_count": 5,
   "id": "f35c2a56",
   "metadata": {},
   "outputs": [
    {
     "data": {
      "text/plain": [
       "Mood disorder                         262\n",
       "Addictive disorder                    178\n",
       "Trauma and stress related disorder    123\n",
       "Schizophrenia                         117\n",
       "Anxiety disorder                      106\n",
       "Healthy control                        93\n",
       "Obsessive compulsive disorder          40\n",
       "Name: main.disorder, dtype: int64"
      ]
     },
     "execution_count": 5,
     "metadata": {},
     "output_type": "execute_result"
    }
   ],
   "source": [
    "df['main.disorder'].value_counts()"
   ]
  },
  {
   "cell_type": "code",
   "execution_count": 6,
   "id": "3b065032",
   "metadata": {},
   "outputs": [
    {
     "data": {
      "text/plain": [
       "1      0\n",
       "2      0\n",
       "3      0\n",
       "4      0\n",
       "5      0\n",
       "      ..\n",
       "940    0\n",
       "941    0\n",
       "942    0\n",
       "943    0\n",
       "944    0\n",
       "Name: mood_disorder, Length: 919, dtype: int64"
      ]
     },
     "execution_count": 6,
     "metadata": {},
     "output_type": "execute_result"
    }
   ],
   "source": [
    "# Creating column if Mood Disorder or not \n",
    "\n",
    "df['mood_disorder'] = df['main.disorder'] == 'Mood disorder'\n",
    "df['mood_disorder'].astype(int)"
   ]
  },
  {
   "cell_type": "code",
   "execution_count": 7,
   "id": "231ab85c",
   "metadata": {},
   "outputs": [],
   "source": [
    "# Simple cross validation \n",
    "# Train test split\n",
    "\n",
    "df.columns\n",
    "X = df.drop(['mood_disorder', 'no.', 'sex', 'eeg.date', 'main.disorder', 'specific.disorder'], axis = 1)\n",
    "y = df['mood_disorder']\n",
    "X_train, X_test, y_train, y_test = train_test_split(X, y, test_size = 0.3,random_state = 42)"
   ]
  },
  {
   "cell_type": "code",
   "execution_count": 8,
   "id": "277620d4",
   "metadata": {},
   "outputs": [],
   "source": [
    "# Grid search CV\n",
    "\n",
    "#params_dict = {'alpha': [0.1, 1.0, 10.0]}\n",
    "pipe = Pipeline([\n",
    "    ('selector', SequentialFeatureSelector(estimator = SGDClassifier(loss=\"hinge\", penalty=\"l2\", max_iter=5),\n",
    "                                           scoring = 'neg_mean_squared_error',\n",
    "                                           n_features_to_select = 5)),\n",
    "    ('model', SGDClassifier(loss=\"hinge\", penalty=\"l2\", max_iter=5))\n",
    "])\n"
   ]
  },
  {
   "cell_type": "code",
   "execution_count": 9,
   "id": "7e9d48a6",
   "metadata": {},
   "outputs": [
    {
     "data": {
      "text/plain": [
       "array(['age', 'education', 'IQ', 'AB.A.delta.a.FP1', 'AB.A.delta.b.FP2'],\n",
       "      dtype=object)"
      ]
     },
     "execution_count": 9,
     "metadata": {},
     "output_type": "execute_result"
    }
   ],
   "source": [
    "## Fit data \n",
    "\n",
    "pipe.fit(X,y)\n",
    "pipe.named_steps['selector'].get_feature_names_out()\n",
    "#pd.DataFrame(pipe.fit(X,y), columns = pipe.named_steps['selector'].get_feature_names_out())\n",
    "# grid = GridSearchCV(estimator = SGDClassifier(loss=\"hinge\", penalty=\"l2\", max_iter=5), param_grid=params_dict)\n",
    "# grid.fit(X_train, y_train)\n"
   ]
  },
  {
   "cell_type": "code",
   "execution_count": 10,
   "id": "2ea29edc",
   "metadata": {},
   "outputs": [
    {
     "name": "stdout",
     "output_type": "stream",
     "text": [
      "9.507563642144932\n",
      "10.636942005679014\n"
     ]
    }
   ],
   "source": [
    "## MSE for train and test simple CV\n",
    "\n",
    "train_preds = pipe.predict(X_train)\n",
    "test_preds = pipe.predict(X_test)\n",
    "train_mse = log_loss(y_train, train_preds)\n",
    "test_mse = log_loss(y_test, test_preds)\n",
    "print(train_mse)\n",
    "print(test_mse)"
   ]
  },
  {
   "cell_type": "code",
   "execution_count": 11,
   "id": "8c291705",
   "metadata": {},
   "outputs": [],
   "source": [
    "# Best alpha for simple CV\n",
    "\n",
    "params_dict = {'model__alpha': [0.01]}\n",
    "grid = GridSearchCV(pipe, param_grid=params_dict)\n",
    "#grid.fit(X_train, y_train)"
   ]
  },
  {
   "cell_type": "code",
   "execution_count": 12,
   "id": "a05e7786",
   "metadata": {},
   "outputs": [
    {
     "data": {
      "text/html": [
       "<style>#sk-3512ed40-1eca-40ab-85e6-41b17c9c4a45 {color: black;background-color: white;}#sk-3512ed40-1eca-40ab-85e6-41b17c9c4a45 pre{padding: 0;}#sk-3512ed40-1eca-40ab-85e6-41b17c9c4a45 div.sk-toggleable {background-color: white;}#sk-3512ed40-1eca-40ab-85e6-41b17c9c4a45 label.sk-toggleable__label {cursor: pointer;display: block;width: 100%;margin-bottom: 0;padding: 0.3em;box-sizing: border-box;text-align: center;}#sk-3512ed40-1eca-40ab-85e6-41b17c9c4a45 label.sk-toggleable__label-arrow:before {content: \"▸\";float: left;margin-right: 0.25em;color: #696969;}#sk-3512ed40-1eca-40ab-85e6-41b17c9c4a45 label.sk-toggleable__label-arrow:hover:before {color: black;}#sk-3512ed40-1eca-40ab-85e6-41b17c9c4a45 div.sk-estimator:hover label.sk-toggleable__label-arrow:before {color: black;}#sk-3512ed40-1eca-40ab-85e6-41b17c9c4a45 div.sk-toggleable__content {max-height: 0;max-width: 0;overflow: hidden;text-align: left;background-color: #f0f8ff;}#sk-3512ed40-1eca-40ab-85e6-41b17c9c4a45 div.sk-toggleable__content pre {margin: 0.2em;color: black;border-radius: 0.25em;background-color: #f0f8ff;}#sk-3512ed40-1eca-40ab-85e6-41b17c9c4a45 input.sk-toggleable__control:checked~div.sk-toggleable__content {max-height: 200px;max-width: 100%;overflow: auto;}#sk-3512ed40-1eca-40ab-85e6-41b17c9c4a45 input.sk-toggleable__control:checked~label.sk-toggleable__label-arrow:before {content: \"▾\";}#sk-3512ed40-1eca-40ab-85e6-41b17c9c4a45 div.sk-estimator input.sk-toggleable__control:checked~label.sk-toggleable__label {background-color: #d4ebff;}#sk-3512ed40-1eca-40ab-85e6-41b17c9c4a45 div.sk-label input.sk-toggleable__control:checked~label.sk-toggleable__label {background-color: #d4ebff;}#sk-3512ed40-1eca-40ab-85e6-41b17c9c4a45 input.sk-hidden--visually {border: 0;clip: rect(1px 1px 1px 1px);clip: rect(1px, 1px, 1px, 1px);height: 1px;margin: -1px;overflow: hidden;padding: 0;position: absolute;width: 1px;}#sk-3512ed40-1eca-40ab-85e6-41b17c9c4a45 div.sk-estimator {font-family: monospace;background-color: #f0f8ff;border: 1px dotted black;border-radius: 0.25em;box-sizing: border-box;margin-bottom: 0.5em;}#sk-3512ed40-1eca-40ab-85e6-41b17c9c4a45 div.sk-estimator:hover {background-color: #d4ebff;}#sk-3512ed40-1eca-40ab-85e6-41b17c9c4a45 div.sk-parallel-item::after {content: \"\";width: 100%;border-bottom: 1px solid gray;flex-grow: 1;}#sk-3512ed40-1eca-40ab-85e6-41b17c9c4a45 div.sk-label:hover label.sk-toggleable__label {background-color: #d4ebff;}#sk-3512ed40-1eca-40ab-85e6-41b17c9c4a45 div.sk-serial::before {content: \"\";position: absolute;border-left: 1px solid gray;box-sizing: border-box;top: 2em;bottom: 0;left: 50%;}#sk-3512ed40-1eca-40ab-85e6-41b17c9c4a45 div.sk-serial {display: flex;flex-direction: column;align-items: center;background-color: white;padding-right: 0.2em;padding-left: 0.2em;}#sk-3512ed40-1eca-40ab-85e6-41b17c9c4a45 div.sk-item {z-index: 1;}#sk-3512ed40-1eca-40ab-85e6-41b17c9c4a45 div.sk-parallel {display: flex;align-items: stretch;justify-content: center;background-color: white;}#sk-3512ed40-1eca-40ab-85e6-41b17c9c4a45 div.sk-parallel::before {content: \"\";position: absolute;border-left: 1px solid gray;box-sizing: border-box;top: 2em;bottom: 0;left: 50%;}#sk-3512ed40-1eca-40ab-85e6-41b17c9c4a45 div.sk-parallel-item {display: flex;flex-direction: column;position: relative;background-color: white;}#sk-3512ed40-1eca-40ab-85e6-41b17c9c4a45 div.sk-parallel-item:first-child::after {align-self: flex-end;width: 50%;}#sk-3512ed40-1eca-40ab-85e6-41b17c9c4a45 div.sk-parallel-item:last-child::after {align-self: flex-start;width: 50%;}#sk-3512ed40-1eca-40ab-85e6-41b17c9c4a45 div.sk-parallel-item:only-child::after {width: 0;}#sk-3512ed40-1eca-40ab-85e6-41b17c9c4a45 div.sk-dashed-wrapped {border: 1px dashed gray;margin: 0 0.4em 0.5em 0.4em;box-sizing: border-box;padding-bottom: 0.4em;background-color: white;position: relative;}#sk-3512ed40-1eca-40ab-85e6-41b17c9c4a45 div.sk-label label {font-family: monospace;font-weight: bold;background-color: white;display: inline-block;line-height: 1.2em;}#sk-3512ed40-1eca-40ab-85e6-41b17c9c4a45 div.sk-label-container {position: relative;z-index: 2;text-align: center;}#sk-3512ed40-1eca-40ab-85e6-41b17c9c4a45 div.sk-container {/* jupyter's `normalize.less` sets `[hidden] { display: none; }` but bootstrap.min.css set `[hidden] { display: none !important; }` so we also need the `!important` here to be able to override the default hidden behavior on the sphinx rendered scikit-learn.org. See: https://github.com/scikit-learn/scikit-learn/issues/21755 */display: inline-block !important;position: relative;}#sk-3512ed40-1eca-40ab-85e6-41b17c9c4a45 div.sk-text-repr-fallback {display: none;}</style><div id=\"sk-3512ed40-1eca-40ab-85e6-41b17c9c4a45\" class=\"sk-top-container\"><div class=\"sk-text-repr-fallback\"><pre>GridSearchCV(estimator=Pipeline(steps=[(&#x27;selector&#x27;,\n",
       "                                        SequentialFeatureSelector(estimator=SGDClassifier(max_iter=5),\n",
       "                                                                  n_features_to_select=5,\n",
       "                                                                  scoring=&#x27;neg_mean_squared_error&#x27;)),\n",
       "                                       (&#x27;model&#x27;, SGDClassifier(max_iter=5))]),\n",
       "             param_grid={&#x27;model__alpha&#x27;: [0.01]})</pre><b>Please rerun this cell to show the HTML repr or trust the notebook.</b></div><div class=\"sk-container\" hidden><div class=\"sk-item sk-dashed-wrapped\"><div class=\"sk-label-container\"><div class=\"sk-label sk-toggleable\"><input class=\"sk-toggleable__control sk-hidden--visually\" id=\"b214330d-ebb5-4271-a2b8-894faef7b883\" type=\"checkbox\" ><label for=\"b214330d-ebb5-4271-a2b8-894faef7b883\" class=\"sk-toggleable__label sk-toggleable__label-arrow\">GridSearchCV</label><div class=\"sk-toggleable__content\"><pre>GridSearchCV(estimator=Pipeline(steps=[(&#x27;selector&#x27;,\n",
       "                                        SequentialFeatureSelector(estimator=SGDClassifier(max_iter=5),\n",
       "                                                                  n_features_to_select=5,\n",
       "                                                                  scoring=&#x27;neg_mean_squared_error&#x27;)),\n",
       "                                       (&#x27;model&#x27;, SGDClassifier(max_iter=5))]),\n",
       "             param_grid={&#x27;model__alpha&#x27;: [0.01]})</pre></div></div></div><div class=\"sk-parallel\"><div class=\"sk-parallel-item\"><div class=\"sk-item\"><div class=\"sk-serial\"><div class=\"sk-item\"><div class=\"sk-serial\"><div class=\"sk-item sk-dashed-wrapped\"><div class=\"sk-label-container\"><div class=\"sk-label sk-toggleable\"><input class=\"sk-toggleable__control sk-hidden--visually\" id=\"12a3f4cf-01cb-4ce4-ae72-896fe0b58411\" type=\"checkbox\" ><label for=\"12a3f4cf-01cb-4ce4-ae72-896fe0b58411\" class=\"sk-toggleable__label sk-toggleable__label-arrow\">selector: SequentialFeatureSelector</label><div class=\"sk-toggleable__content\"><pre>SequentialFeatureSelector(estimator=SGDClassifier(max_iter=5),\n",
       "                          n_features_to_select=5,\n",
       "                          scoring=&#x27;neg_mean_squared_error&#x27;)</pre></div></div></div><div class=\"sk-parallel\"><div class=\"sk-parallel-item\"><div class=\"sk-item\"><div class=\"sk-serial\"><div class=\"sk-item\"><div class=\"sk-estimator sk-toggleable\"><input class=\"sk-toggleable__control sk-hidden--visually\" id=\"bde89b33-3b42-4cd0-b3cf-d9b45169d6be\" type=\"checkbox\" ><label for=\"bde89b33-3b42-4cd0-b3cf-d9b45169d6be\" class=\"sk-toggleable__label sk-toggleable__label-arrow\">SGDClassifier</label><div class=\"sk-toggleable__content\"><pre>SGDClassifier(max_iter=5)</pre></div></div></div></div></div></div></div></div><div class=\"sk-item\"><div class=\"sk-estimator sk-toggleable\"><input class=\"sk-toggleable__control sk-hidden--visually\" id=\"b25922bd-6e45-448b-beff-d8b167f43c16\" type=\"checkbox\" ><label for=\"b25922bd-6e45-448b-beff-d8b167f43c16\" class=\"sk-toggleable__label sk-toggleable__label-arrow\">SGDClassifier</label><div class=\"sk-toggleable__content\"><pre>SGDClassifier(max_iter=5)</pre></div></div></div></div></div></div></div></div></div></div></div></div>"
      ],
      "text/plain": [
       "GridSearchCV(estimator=Pipeline(steps=[('selector',\n",
       "                                        SequentialFeatureSelector(estimator=SGDClassifier(max_iter=5),\n",
       "                                                                  n_features_to_select=5,\n",
       "                                                                  scoring='neg_mean_squared_error')),\n",
       "                                       ('model', SGDClassifier(max_iter=5))]),\n",
       "             param_grid={'model__alpha': [0.01]})"
      ]
     },
     "execution_count": 12,
     "metadata": {},
     "output_type": "execute_result"
    }
   ],
   "source": [
    "grid.fit(X_train, y_train)"
   ]
  },
  {
   "cell_type": "code",
   "execution_count": 14,
   "id": "86b8a086",
   "metadata": {},
   "outputs": [
    {
     "name": "stdout",
     "output_type": "stream",
     "text": [
      "9.507571103396224\n",
      "10.887243273692901\n"
     ]
    }
   ],
   "source": [
    "# train_preds = grid.predict(X_train)\n",
    "# test_preds = grid.predict(X_test)\n",
    "train_mse = log_loss(y_train, train_preds)\n",
    "test_mse = log_loss(y_test, test_preds)\n",
    "print(train_mse)\n",
    "print(test_mse)"
   ]
  },
  {
   "cell_type": "code",
   "execution_count": null,
   "id": "9d7b0868",
   "metadata": {},
   "outputs": [],
   "source": [
    "# k-fold k = 5\n",
    "\n",
    "params_dict = {'model__alpha': [0.01, 1.0, 10.0]}\n",
    "grid = GridSearchCV(pipe, param_grid=params_dict, cv = 5)\n",
    "grid.fit(X_train, y_train)"
   ]
  }
 ],
 "metadata": {
  "kernelspec": {
   "display_name": "Python 3 (ipykernel)",
   "language": "python",
   "name": "python3"
  },
  "language_info": {
   "codemirror_mode": {
    "name": "ipython",
    "version": 3
   },
   "file_extension": ".py",
   "mimetype": "text/x-python",
   "name": "python",
   "nbconvert_exporter": "python",
   "pygments_lexer": "ipython3",
   "version": "3.9.12"
  }
 },
 "nbformat": 4,
 "nbformat_minor": 5
}

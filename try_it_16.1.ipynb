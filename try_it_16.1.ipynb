{
 "cells": [
  {
   "cell_type": "markdown",
   "metadata": {},
   "source": [
    "### Comparing Models\n",
    "\n",
    "Now that you have seen a variety of models for regression and classification problems, it is good to step back and weigh the pros and cons of these options.  In the case of classification models, there are at least three things to consider:\n",
    "\n",
    "1. Is the model good at handling imbalanced classes?\n",
    "2. Does the model train quickly?\n",
    "3. Does the model yield interpretable results?\n",
    "\n",
    "Depending on your dataset and goals, the importance of these considerations will vary from project to project.  Your goal is to review our models to this point and discuss the pros and cons of each.  Two example datasets are offered as a way to offer two very different tasks where interpretability of the model may be of differing importance."
   ]
  },
  {
   "cell_type": "markdown",
   "metadata": {},
   "source": [
    "### Data and Task\n",
    "\n",
    "Your goal is to discuss the pros and cons of Logistic Regression, Decision Trees, KNN, and SVM for the tasks below.  Consider at least the three questions above and list any additional considerations you believe are important to determining the \"best\" model for the task.  Share your response with your peers on the class discussion board.  \n",
    "\n",
    "**TASK 1**: Predicting Customer Churn\n",
    "\n",
    "Suppose you are tasked with producing a model to predict customer churn.  Which of your classification models would you use and what are the pros and cons of this model for this task?  Be sure to consider interpretability, imbalnced classes, and the speed of training.\n",
    "\n"
   ]
  },
  {
   "cell_type": "code",
   "execution_count": 2,
   "metadata": {},
   "outputs": [],
   "source": [
    "import pandas as pd\n",
    "import numpy as np\n",
    "import matplotlib.pyplot as plt\n",
    "from sklearn.neighbors import KNeighborsClassifier\n",
    "from sklearn.tree import DecisionTreeClassifier\n",
    "from sklearn.preprocessing import StandardScaler, PolynomialFeatures\n",
    "from sklearn.pipeline import Pipeline\n",
    "from sklearn.linear_model import LogisticRegression\n",
    "from sklearn.svm import SVC\n",
    "\n",
    "from sklearn import set_config\n",
    "set_config(display=\"diagram\")\n",
    "from sklearn.model_selection import train_test_split, GridSearchCV\n",
    "from sklearn.metrics.pairwise import polynomial_kernel, rbf_kernel\n",
    "import warnings\n",
    "warnings.filterwarnings('ignore')\n"
   ]
  },
  {
   "cell_type": "code",
   "execution_count": 3,
   "metadata": {},
   "outputs": [],
   "source": [
    "from sklearn.datasets import load_digits"
   ]
  },
  {
   "cell_type": "code",
   "execution_count": 6,
   "metadata": {},
   "outputs": [
    {
     "ename": "ModuleNotFoundError",
     "evalue": "No module named 'dill'",
     "output_type": "error",
     "traceback": [
      "\u001b[0;31m---------------------------------------------------------------------------\u001b[0m",
      "\u001b[0;31mModuleNotFoundError\u001b[0m                       Traceback (most recent call last)",
      "Input \u001b[0;32mIn [6]\u001b[0m, in \u001b[0;36m<cell line: 1>\u001b[0;34m()\u001b[0m\n\u001b[0;32m----> 1\u001b[0m \u001b[38;5;28;01mimport\u001b[39;00m \u001b[38;5;21;01mdill\u001b[39;00m\n\u001b[1;32m      2\u001b[0m dill\u001b[38;5;241m.\u001b[39mdump_session(\u001b[38;5;124m'\u001b[39m\u001b[38;5;124mnotebook_env.db\u001b[39m\u001b[38;5;124m'\u001b[39m)\n",
      "\u001b[0;31mModuleNotFoundError\u001b[0m: No module named 'dill'"
     ]
    }
   ],
   "source": [
    "import dill\n",
    "dill.dump_session('notebook_env.db')"
   ]
  },
  {
   "cell_type": "markdown",
   "metadata": {},
   "source": [
    "The data is loaded below.  Note that the handwritten digit data is already split into features and target (`digits`, `labels`). "
   ]
  },
  {
   "cell_type": "code",
   "execution_count": 8,
   "metadata": {},
   "outputs": [],
   "source": [
    "churn = pd.read_csv('/Users/apekshasridhar/Downloads/try-it_16_1_starter/data/telecom_churn.csv')\n",
    "digits, labels = load_digits(return_X_y=True)"
   ]
  },
  {
   "cell_type": "code",
   "execution_count": 1,
   "metadata": {},
   "outputs": [
    {
     "ename": "NameError",
     "evalue": "name 'churn' is not defined",
     "output_type": "error",
     "traceback": [
      "\u001b[0;31m---------------------------------------------------------------------------\u001b[0m",
      "\u001b[0;31mNameError\u001b[0m                                 Traceback (most recent call last)",
      "Input \u001b[0;32mIn [1]\u001b[0m, in \u001b[0;36m<cell line: 2>\u001b[0;34m()\u001b[0m\n\u001b[1;32m      1\u001b[0m \u001b[38;5;66;03m#churn data\u001b[39;00m\n\u001b[0;32m----> 2\u001b[0m \u001b[43mchurn\u001b[49m\u001b[38;5;241m.\u001b[39mhead()\n",
      "\u001b[0;31mNameError\u001b[0m: name 'churn' is not defined"
     ]
    }
   ],
   "source": [
    "#churn data\n",
    "churn.head()"
   ]
  },
  {
   "cell_type": "code",
   "execution_count": 40,
   "metadata": {},
   "outputs": [
    {
     "data": {
      "text/plain": [
       "<AxesSubplot:>"
      ]
     },
     "execution_count": 40,
     "metadata": {},
     "output_type": "execute_result"
    },
    {
     "data": {
      "image/png": "[encoded data removed]",
      "text/plain": [
       "<Figure size 432x288 with 1 Axes>"
      ]
     },
     "metadata": {
      "needs_background": "light"
     },
     "output_type": "display_data"
    }
   ],
   "source": [
    "X = churn.drop(columns = 'Churn', axis = 1)\n",
    "y = churn['Churn']\n",
    "X_dum = pd.get_dummies(X, sparse=True, drop_first = True)\n",
    "\n",
    "X_train, X_test, y_train, y_test = train_test_split(X_dum, y, test_size = 0.3, random_state = 22)\n",
    "churn['Churn'].value_counts().plot(kind='bar')\n"
   ]
  },
  {
   "cell_type": "code",
   "execution_count": 69,
   "metadata": {},
   "outputs": [
    {
     "name": "stdout",
     "output_type": "stream",
     "text": [
      "{'model__n_neighbors': 5}\n",
      "KNN test score:  0.849\n",
      "CPU times: user 12.3 s, sys: 318 ms, total: 12.6 s\n",
      "Wall time: 4.99 s\n"
     ]
    }
   ],
   "source": [
    "%%time\n",
    "### KNN\n",
    "knn_pipe = Pipeline([('scale', StandardScaler()), \n",
    "                      ('model', KNeighborsClassifier())]).fit(X_train, y_train)\n",
    "\n",
    "knn_params = {'model__n_neighbors': [1, 2, 3, 4, 5, 6, 7, 8, 9]}\n",
    "\n",
    "grid_knn = GridSearchCV(knn_pipe, param_grid = knn_params, cv = 5).fit(X_train, y_train)\n",
    "\n",
    "print(grid_knn.best_params_)\n",
    "print(\"KNN test score: \", grid_knn.score(X_test, y_test))"
   ]
  },
  {
   "cell_type": "code",
   "execution_count": 70,
   "metadata": {},
   "outputs": [
    {
     "name": "stdout",
     "output_type": "stream",
     "text": [
      "Pipeline(steps=[('scale', StandardScaler()),\n",
      "                ('model', LogisticRegression(fit_intercept=False))])\n",
      "Logistic Regression test score:  0.658\n",
      "CPU times: user 146 ms, sys: 26.7 ms, total: 172 ms\n",
      "Wall time: 94.1 ms\n"
     ]
    }
   ],
   "source": [
    "%%time\n",
    "### Logistic Regression\n",
    "\n",
    "lgr_pipe = Pipeline([('scale', StandardScaler()), \n",
    "                      ('model', LogisticRegression(fit_intercept = False))]).fit(X_train, y_train)\n",
    "\n",
    "print(lgr_pipe)\n",
    "print(\"Logistic Regression test score: \", lgr_pipe.score(X_test, y_test))"
   ]
  },
  {
   "cell_type": "code",
   "execution_count": 71,
   "metadata": {},
   "outputs": [
    {
     "name": "stdout",
     "output_type": "stream",
     "text": [
      "{'max_depth': 6}\n",
      "Decision Tree test score:  0.925\n",
      "CPU times: user 1.74 s, sys: 18.6 ms, total: 1.76 s\n",
      "Wall time: 1.78 s\n"
     ]
    }
   ],
   "source": [
    "%%time\n",
    "### Decision Trees\n",
    "\n",
    "dt_pipe = DecisionTreeClassifier().fit(X_train, y_train)\n",
    "dt_params = {'max_depth': [2, 3, 4, 5, 6, 7, 8, 9]}\n",
    "\n",
    "grid_dt = GridSearchCV(dt_pipe, param_grid = dt_params, cv = 5).fit(X_train, y_train)\n",
    "\n",
    "print(grid_dt.best_params_)\n",
    "print(\"Decision Tree test score: \", grid_dt.score(X_test, y_test))"
   ]
  },
  {
   "cell_type": "code",
   "execution_count": 72,
   "metadata": {},
   "outputs": [
    {
     "name": "stdout",
     "output_type": "stream",
     "text": [
      "{'kernel': 'linear'}\n",
      "SVC test score:  0.844\n",
      "CPU times: user 3min 59s, sys: 933 ms, total: 4min\n",
      "Wall time: 4min 8s\n"
     ]
    }
   ],
   "source": [
    "%%time\n",
    "### SVM \n",
    "\n",
    "svc_pipe = SVC().fit(X_train, y_train)\n",
    "svc_params = {'kernel': ['linear', 'poly', 'rbf', 'sigmoid']}\n",
    "\n",
    "grid_svc = GridSearchCV(svc_pipe, param_grid = svc_params, cv = 5).fit(X_train, y_train)\n",
    "\n",
    "print(grid_svc.best_params_)\n",
    "print(\"SVC test score: \", grid_svc.score(X_test, y_test))\n"
   ]
  },
  {
   "cell_type": "markdown",
   "metadata": {},
   "source": [
    "**TASK 2**: Recognizing Handwritten Digits\n",
    "\n",
    "Suppose you are tasked with training a model to recognize handwritten digits.  Which of your classifier would you use here and why?  Again, be sure to consider the balance of classes, speed of training, and importance of interpretability.\n",
    "\n"
   ]
  },
  {
   "cell_type": "code",
   "execution_count": 73,
   "metadata": {},
   "outputs": [
    {
     "data": {
      "image/png": "[encoded data removed]",
      "text/plain": [
       "<Figure size 432x288 with 1 Axes>"
      ]
     },
     "metadata": {
      "needs_background": "light"
     },
     "output_type": "display_data"
    }
   ],
   "source": [
    "#example image\n",
    "plt.imshow(digits[0].reshape(8, 8))\n",
    "plt.title('This is a handwritten 0.');"
   ]
  },
  {
   "cell_type": "code",
   "execution_count": 77,
   "metadata": {},
   "outputs": [
    {
     "data": {
      "text/plain": [
       "<AxesSubplot:>"
      ]
     },
     "execution_count": 77,
     "metadata": {},
     "output_type": "execute_result"
    },
    {
     "data": {
      "image/png": "[encoded data removed]",
      "text/plain": [
       "<Figure size 432x288 with 1 Axes>"
      ]
     },
     "metadata": {
      "needs_background": "light"
     },
     "output_type": "display_data"
    }
   ],
   "source": [
    "X = digits\n",
    "y = pd.Series(labels)\n",
    "#X_dum = pd.get_dummies(X, sparse=True, drop_first = True)\n",
    "\n",
    "X_train, X_test, y_train, y_test = train_test_split(X, y, test_size = 0.3, random_state = 22)\n",
    "y.value_counts().plot(kind='bar')"
   ]
  },
  {
   "cell_type": "code",
   "execution_count": 78,
   "metadata": {},
   "outputs": [
    {
     "name": "stdout",
     "output_type": "stream",
     "text": [
      "{'model__n_neighbors': 1}\n",
      "KNN test score:  0.9777777777777777\n",
      "CPU times: user 3 s, sys: 41.2 ms, total: 3.04 s\n",
      "Wall time: 780 ms\n"
     ]
    }
   ],
   "source": [
    "%%time\n",
    "### KNN\n",
    "knn_pipe = Pipeline([('scale', StandardScaler()), \n",
    "                      ('model', KNeighborsClassifier())]).fit(X_train, y_train)\n",
    "\n",
    "knn_params = {'model__n_neighbors': [1, 2, 3, 4, 5, 6, 7, 8, 9]}\n",
    "\n",
    "grid_knn = GridSearchCV(knn_pipe, param_grid = knn_params, cv = 5).fit(X_train, y_train)\n",
    "\n",
    "print(grid_knn.best_params_)\n",
    "print(\"KNN test score: \", grid_knn.score(X_test, y_test))"
   ]
  },
  {
   "cell_type": "code",
   "execution_count": 79,
   "metadata": {},
   "outputs": [
    {
     "name": "stdout",
     "output_type": "stream",
     "text": [
      "Pipeline(steps=[('scale', StandardScaler()),\n",
      "                ('model', LogisticRegression(fit_intercept=False))])\n",
      "Logistic Regression test score:  0.9703703703703703\n",
      "CPU times: user 278 ms, sys: 16.7 ms, total: 295 ms\n",
      "Wall time: 99 ms\n"
     ]
    }
   ],
   "source": [
    "%%time\n",
    "### Logistic Regression\n",
    "\n",
    "lgr_pipe = Pipeline([('scale', StandardScaler()), \n",
    "                      ('model', LogisticRegression(fit_intercept = False))]).fit(X_train, y_train)\n",
    "\n",
    "print(lgr_pipe)\n",
    "print(\"Logistic Regression test score: \", lgr_pipe.score(X_test, y_test))"
   ]
  },
  {
   "cell_type": "code",
   "execution_count": 80,
   "metadata": {},
   "outputs": [
    {
     "name": "stdout",
     "output_type": "stream",
     "text": [
      "{'max_depth': 9}\n",
      "Decision Tree test score:  0.8111111111111111\n",
      "CPU times: user 440 ms, sys: 4.46 ms, total: 445 ms\n",
      "Wall time: 445 ms\n"
     ]
    }
   ],
   "source": [
    "%%time\n",
    "### Decision Trees\n",
    "\n",
    "dt_pipe = DecisionTreeClassifier().fit(X_train, y_train)\n",
    "dt_params = {'max_depth': [2, 3, 4, 5, 6, 7, 8, 9]}\n",
    "\n",
    "grid_dt = GridSearchCV(dt_pipe, param_grid = dt_params, cv = 5).fit(X_train, y_train)\n",
    "\n",
    "print(grid_dt.best_params_)\n",
    "print(\"Decision Tree test score: \", grid_dt.score(X_test, y_test))"
   ]
  },
  {
   "cell_type": "code",
   "execution_count": 82,
   "metadata": {},
   "outputs": [
    {
     "name": "stdout",
     "output_type": "stream",
     "text": [
      "{'kernel': 'poly'}\n",
      "SVC test score:  0.9851851851851852\n",
      "CPU times: user 1.15 s, sys: 99.8 ms, total: 1.25 s\n",
      "Wall time: 1.64 s\n"
     ]
    }
   ],
   "source": [
    "%%time\n",
    "### SVM \n",
    "\n",
    "svc_pipe = SVC(decision_function_shape='ovo').fit(X_train, y_train)\n",
    "svc_params = {'kernel': ['linear', 'poly', 'rbf', 'sigmoid']}\n",
    "\n",
    "grid_svc = GridSearchCV(svc_pipe, param_grid = svc_params, cv = 5).fit(X_train, y_train)\n",
    "\n",
    "print(grid_svc.best_params_)\n",
    "print(\"SVC test score: \", grid_svc.score(X_test, y_test))\n"
   ]
  },
  {
   "cell_type": "code",
   "execution_count": 84,
   "metadata": {},
   "outputs": [
    {
     "name": "stdout",
     "output_type": "stream",
     "text": [
      "{'degree': 4}\n",
      "SVC test score:  0.987037037037037\n",
      "CPU times: user 1.24 s, sys: 20.4 ms, total: 1.26 s\n",
      "Wall time: 1.3 s\n"
     ]
    }
   ],
   "source": [
    "%%time\n",
    "### SVM \n",
    "\n",
    "svc_pipe = SVC(kernel = 'poly', decision_function_shape='ovo').fit(X_train, y_train)\n",
    "svc_params = {'degree': [1,2,3,4,5,6,7,8]}\n",
    "\n",
    "grid_svc = GridSearchCV(svc_pipe, param_grid = svc_params, cv = 5).fit(X_train, y_train)\n",
    "\n",
    "print(grid_svc.best_params_)\n",
    "print(\"SVC test score: \", grid_svc.score(X_test, y_test))"
   ]
  },
  {
   "cell_type": "code",
   "execution_count": null,
   "metadata": {},
   "outputs": [],
   "source": []
  }
 ],
 "metadata": {
  "kernelspec": {
   "display_name": "Python 3 (ipykernel)",
   "language": "python",
   "name": "python3"
  },
  "language_info": {
   "codemirror_mode": {
    "name": "ipython",
    "version": 3
   },
   "file_extension": ".py",
   "mimetype": "text/x-python",
   "name": "python",
   "nbconvert_exporter": "python",
   "pygments_lexer": "ipython3",
   "version": "3.9.12"
  }
 },
 "nbformat": 4,
 "nbformat_minor": 4
}
